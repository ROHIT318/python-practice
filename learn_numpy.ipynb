{
  "nbformat": 4,
  "nbformat_minor": 0,
  "metadata": {
    "colab": {
      "provenance": [],
      "authorship_tag": "ABX9TyNDKX0l6BNmFvqEIUVVg9gR",
      "include_colab_link": true
    },
    "kernelspec": {
      "name": "python3",
      "display_name": "Python 3"
    },
    "language_info": {
      "name": "python"
    }
  },
  "cells": [
    {
      "cell_type": "markdown",
      "metadata": {
        "id": "view-in-github",
        "colab_type": "text"
      },
      "source": [
        "<a href=\"https://colab.research.google.com/github/ROHIT318/python-practice/blob/main/learn_numpy.ipynb\" target=\"_parent\"><img src=\"https://colab.research.google.com/assets/colab-badge.svg\" alt=\"Open In Colab\"/></a>"
      ]
    },
    {
      "cell_type": "markdown",
      "source": [
        "**Topics to be covered for learning numpy:**\n",
        "1. Numpy array object, attributes, methods, declaration\n",
        "2. Indexing and slicing on numpy arrays\n",
        "3. Mathematical and Statistical operations on arrays\n",
        "4. Array manipulation like reshaping, stacking and splitting arrays\n",
        "5. Matrix multiplication, eigenvalues and eigenvectors in numpy arrays\n",
        "6. `numpy.random` in numpy\n",
        "7. Techniques for improving the performance of numpy arrays\n",
        "8. Read and write data to or from files using numpy\n",
        "9. How to manage memory efficienlty in numpy arrays"
      ],
      "metadata": {
        "id": "1TSs_4UWUayq"
      }
    },
    {
      "cell_type": "markdown",
      "source": [
        "**What is numpy library?**\n",
        "- Numpy arrays are more memory efficient and faster than python lists espacially for large datasets\n",
        "- Mathematical operations can be applied directly to entire arrays unlike python lists. Ex: arr1 * arr2 (Possible only in numpy and not in python lists)\n",
        "- Numpy provides wide range of functions for linear algebra, statistical analysis which are either not present in lists or are less efficient\n",
        "-  Numpy arrays have a fixed data type, allowing for more efficient memory storage and faster mathematical operations. Python lists can store elements of different data types, leading to higher memory overhead."
      ],
      "metadata": {
        "id": "pMRdRWB8YaqM"
      }
    },
    {
      "cell_type": "code",
      "execution_count": null,
      "metadata": {
        "colab": {
          "base_uri": "https://localhost:8080/"
        },
        "id": "jNU-XsTIK1Tx",
        "outputId": "1243448a-c386-4321-f6c7-93fbca978e5a"
      },
      "outputs": [
        {
          "output_type": "stream",
          "name": "stdout",
          "text": [
            "One dimensional array: [1 2 3 4 5]\n",
            "Two dimensional array: [[1 2 3]\n",
            " [4 5 6]]\n"
          ]
        }
      ],
      "source": [
        "import numpy as np\n",
        "\n",
        "arr1 = np.array([1,2,3,4,5])\n",
        "print(f'One dimensional array: {arr1}')\n",
        "\n",
        "arr2 = np.array([[1,2,3], [4,5,6]])\n",
        "print(f'Two dimensional array: {arr2}')"
      ]
    },
    {
      "cell_type": "code",
      "source": [
        "import sys\n",
        "\n",
        "# Comparing size of python lists and numpy array\n",
        "np_arr = np.array([1,2,3,4])\n",
        "python_lists = [1,2,3,4]\n",
        "\n",
        "print(f'Size of Python lists: {sys.getsizeof(python_lists)}')\n",
        "print(f'Size of numpy array: {np_arr.nbytes}')"
      ],
      "metadata": {
        "id": "CSU-34m3SiCa",
        "colab": {
          "base_uri": "https://localhost:8080/"
        },
        "outputId": "30bd70fb-39d1-4fb7-d6f6-32535f2d43a2"
      },
      "execution_count": 4,
      "outputs": [
        {
          "output_type": "stream",
          "name": "stdout",
          "text": [
            "Size of Python lists: 88\n",
            "Size of numpy array: 32\n"
          ]
        }
      ]
    }
  ]
}