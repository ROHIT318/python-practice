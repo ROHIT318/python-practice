{
  "nbformat": 4,
  "nbformat_minor": 0,
  "metadata": {
    "colab": {
      "provenance": [],
      "collapsed_sections": [
        "7QOhRCEM2r4h"
      ],
      "authorship_tag": "ABX9TyONOyGr4coT+1mTT7s3PwuB",
      "include_colab_link": true
    },
    "kernelspec": {
      "name": "python3",
      "display_name": "Python 3"
    },
    "language_info": {
      "name": "python"
    }
  },
  "cells": [
    {
      "cell_type": "markdown",
      "metadata": {
        "id": "view-in-github",
        "colab_type": "text"
      },
      "source": [
        "<a href=\"https://colab.research.google.com/github/ROHIT318/python-practice/blob/main/learn_numpy.ipynb\" target=\"_parent\"><img src=\"https://colab.research.google.com/assets/colab-badge.svg\" alt=\"Open In Colab\"/></a>"
      ]
    },
    {
      "cell_type": "markdown",
      "source": [
        "**Topics to be covered for learning numpy:**\n",
        "1. Numpy array object, attributes, methods, declaration\n",
        "2. Indexing and slicing on numpy arrays\n",
        "3. Mathematical and Statistical operations on arrays\n",
        "4. Array manipulation like reshaping, stacking and splitting arrays\n",
        "5. Matrix multiplication, eigenvalues and eigenvectors in numpy arrays\n",
        "6. `numpy.random` in numpy\n",
        "7. Techniques for improving the performance of numpy arrays\n",
        "8. Read and write data to or from files using numpy\n",
        "9. How to manage memory efficienlty in numpy arrays"
      ],
      "metadata": {
        "id": "1TSs_4UWUayq"
      }
    },
    {
      "cell_type": "markdown",
      "source": [
        "**What is numpy library?**\n",
        "- Numpy arrays are more memory efficient and faster than python lists espacially for large datasets\n",
        "- Mathematical operations can be applied directly to entire arrays unlike python lists. Ex: arr1 * arr2 (Possible only in numpy and not in python lists)\n",
        "- Numpy provides wide range of functions for linear algebra, statistical analysis which are either not present in lists or are less efficient\n",
        "-  Numpy arrays have a fixed data type, allowing for more efficient memory storage and faster mathematical operations. Python lists can store elements of different data types, leading to higher memory overhead."
      ],
      "metadata": {
        "id": "pMRdRWB8YaqM"
      }
    },
    {
      "cell_type": "code",
      "execution_count": null,
      "metadata": {
        "colab": {
          "base_uri": "https://localhost:8080/"
        },
        "id": "jNU-XsTIK1Tx",
        "outputId": "1243448a-c386-4321-f6c7-93fbca978e5a"
      },
      "outputs": [
        {
          "output_type": "stream",
          "name": "stdout",
          "text": [
            "One dimensional array: [1 2 3 4 5]\n",
            "Two dimensional array: [[1 2 3]\n",
            " [4 5 6]]\n"
          ]
        }
      ],
      "source": [
        "import numpy as np\n",
        "\n",
        "arr1 = np.array([1,2,3,4,5])\n",
        "print(f'One dimensional array: {arr1}')\n",
        "\n",
        "arr2 = np.array([[1,2,3], [4,5,6]])\n",
        "print(f'Two dimensional array: {arr2}')"
      ]
    },
    {
      "cell_type": "code",
      "source": [
        "import sys\n",
        "\n",
        "# Comparing size of python lists and numpy array\n",
        "np_arr = np.array([1,2,3,4])\n",
        "python_lists = [1,2,3,4]\n",
        "\n",
        "print(f'Size of Python lists: {sys.getsizeof(python_lists)}')\n",
        "print(f'Size of numpy array: {np_arr.nbytes}')"
      ],
      "metadata": {
        "id": "CSU-34m3SiCa",
        "colab": {
          "base_uri": "https://localhost:8080/"
        },
        "outputId": "30bd70fb-39d1-4fb7-d6f6-32535f2d43a2"
      },
      "execution_count": 4,
      "outputs": [
        {
          "output_type": "stream",
          "name": "stdout",
          "text": [
            "Size of Python lists: 88\n",
            "Size of numpy array: 32\n"
          ]
        }
      ]
    },
    {
      "cell_type": "markdown",
      "source": [
        "# Indexing and Slicing in Numpy\n",
        "Indexing and slicing allows to access and manipulate elements within arrays."
      ],
      "metadata": {
        "id": "7QOhRCEM2r4h"
      }
    },
    {
      "cell_type": "markdown",
      "source": [
        "**Indexing:**\n",
        "- Indexing allows to access individual elements in a numpy array\n",
        "- Zero indexed\n",
        "- `arr_var[row_index:colum_index]`"
      ],
      "metadata": {
        "id": "Pcb7TIiS3UuH"
      }
    },
    {
      "cell_type": "code",
      "source": [
        "print(f'First row, first column: {arr2[0,0]}')\n",
        "print(f'Last row, last column: {arr2[1,2]}')"
      ],
      "metadata": {
        "colab": {
          "base_uri": "https://localhost:8080/"
        },
        "id": "NXmRzNxL3fKs",
        "outputId": "c86464a7-b889-4b0e-b509-7fecaf382273"
      },
      "execution_count": 11,
      "outputs": [
        {
          "output_type": "stream",
          "name": "stdout",
          "text": [
            "First row, first column: 1\n",
            "Last row, last column: 6\n"
          ]
        }
      ]
    },
    {
      "cell_type": "markdown",
      "source": [
        "**Slicing:**\n",
        "- Allows to extract a portion of the array\n",
        "- Create a new array with the selected element"
      ],
      "metadata": {
        "id": "CX1pKpyZ6zp3"
      }
    },
    {
      "cell_type": "code",
      "source": [
        "print(f'First row, last two elements: {arr2[0, 1:]}')\n",
        "print(f'First row, first two elements: {arr2[0, :2]}')\n",
        "print(f'Both rows, first two elements: {arr2[:, 0:2]}')"
      ],
      "metadata": {
        "colab": {
          "base_uri": "https://localhost:8080/"
        },
        "id": "V0JKBfyH7KLe",
        "outputId": "d350fbb7-65fa-4aeb-c6a7-6c1c2eff3512"
      },
      "execution_count": 14,
      "outputs": [
        {
          "output_type": "stream",
          "name": "stdout",
          "text": [
            "First row, last two elements: [2 3]\n",
            "First row, first two elements: [1 2]\n",
            "Both rows, first two elements: [[1 2]\n",
            " [4 5]]\n"
          ]
        }
      ]
    },
    {
      "cell_type": "markdown",
      "source": [
        "**Advanced Indexing:**\n",
        "- Supports indexing using bolean arrays or integer arrays to access element based on certain conditions"
      ],
      "metadata": {
        "id": "ORTTat7H8wrB"
      }
    },
    {
      "cell_type": "code",
      "source": [
        "new_arr = arr2[arr2 > 1]\n",
        "print(f'Creating new array using advanced indexing {new_arr}')"
      ],
      "metadata": {
        "colab": {
          "base_uri": "https://localhost:8080/"
        },
        "id": "JGdIMqYT80jn",
        "outputId": "0e22be6c-df19-4014-f6a7-ec7fc533c839"
      },
      "execution_count": 15,
      "outputs": [
        {
          "output_type": "stream",
          "name": "stdout",
          "text": [
            "Creating new array using advanced indexing [2 3 4 5 6]\n"
          ]
        }
      ]
    },
    {
      "cell_type": "markdown",
      "source": [
        "# Mathematical and Statistical operations in numpy"
      ],
      "metadata": {
        "id": "GEnc89Fp-yHl"
      }
    },
    {
      "cell_type": "markdown",
      "source": [
        "**Element wise operations**"
      ],
      "metadata": {
        "id": "ZPVMHvhC-7al"
      }
    },
    {
      "cell_type": "code",
      "source": [
        "arr_1 = np.array([1,0,2])\n",
        "arr_2 = np.array([2,1,6])\n",
        "\n",
        "arr_add = arr_1 + arr_2\n",
        "print(f'Addition of two numpy arrays: {arr_add}')\n",
        "\n",
        "arr_sub = arr_2 - arr_1\n",
        "print(f'Subtraction of two numpy arrays: {arr_sub}')\n",
        "\n",
        "arr_mul = arr_1 * arr_2\n",
        "print(f'Multiplication of two numpy arrays: {arr_mul}')\n",
        "\n",
        "arr_div = arr_2 / arr_1\n",
        "print(f'Division of two numpy arrays: {arr_div} \"On purpose division by zero')"
      ],
      "metadata": {
        "colab": {
          "base_uri": "https://localhost:8080/"
        },
        "id": "S7oJVIIfADhO",
        "outputId": "c49410aa-d54a-4eee-e048-3c646ebb9631"
      },
      "execution_count": 17,
      "outputs": [
        {
          "output_type": "stream",
          "name": "stdout",
          "text": [
            "Addition of two numpy arrays: [3 1 8]\n",
            "Subtraction of two numpy arrays: [1 1 4]\n",
            "Multiplication of two numpy arrays: [ 2  0 12]\n",
            "Division of two numpy arrays: [ 2. inf  3.] \"On purpose division by zero\n"
          ]
        },
        {
          "output_type": "stream",
          "name": "stderr",
          "text": [
            "<ipython-input-17-3109d7a7274f>:13: RuntimeWarning: divide by zero encountered in divide\n",
            "  arr_div = arr_2 / arr_1\n"
          ]
        }
      ]
    },
    {
      "cell_type": "markdown",
      "source": [
        "**Universal Functions (ufuncs):**\n",
        "- Universal functions (ufuncs) that operate element-wise on arrays"
      ],
      "metadata": {
        "id": "cW_pA2etCKrz"
      }
    },
    {
      "cell_type": "code",
      "source": [
        "arr_sqrt = np.sqrt(arr_1)\n",
        "print(f'Square root of each numpy array element: {arr_sqrt}')\n",
        "\n",
        "arr_exp = np.exp(arr_1)\n",
        "print(f'Exponentiation of each numpy array element: {arr_exp}')"
      ],
      "metadata": {
        "colab": {
          "base_uri": "https://localhost:8080/"
        },
        "id": "_Rh3I-WICbas",
        "outputId": "df3aa9aa-5d75-46f5-cea8-ccaf86cdff52"
      },
      "execution_count": 18,
      "outputs": [
        {
          "output_type": "stream",
          "name": "stdout",
          "text": [
            "Square root of each numpy array element: [1.         0.         1.41421356]\n",
            "Exponentiation of each numpy array element: [2.71828183 1.         7.3890561 ]\n"
          ]
        }
      ]
    },
    {
      "cell_type": "markdown",
      "source": [
        "# Statistical Operations:\n",
        "- Mean: Also known as average, it represents the sum of a set of values divided by the number of values in that set\n",
        "- Median: It represents middle value of dataset sorted in ascending and descending order. If even number of elements than average of middle two elements  \n",
        "- Standard Deviation: It is a measure of the amount of variation or dispersion in a set of values. A low standard deviation indicates that the values tend to be close to the mean, while a high standard deviation indicates that the values are spread out over a wider range.\n",
        "    <br> Example:\n",
        "        i) Find mean of all elements\n",
        "        ii) Calculate squared difference from mean of each element\n",
        "        iii) Find average of these squared differences\n",
        "- Sum: Sum of all the elements in the array"
      ],
      "metadata": {
        "id": "NDwWyDv8DdzF"
      }
    },
    {
      "cell_type": "code",
      "source": [
        "mean_val = np.mean(arr_1)\n",
        "print(f'Mean value of numpy array: {mean_val}')\n",
        "\n",
        "median_val = np.median(arr_1)\n",
        "print(f'Median value of numpy array: {median_val}')\n",
        "\n",
        "std_dev_val = np.std(arr_1)\n",
        "print(f'Standard deviation of numpy array: {std_dev_val}')\n",
        "\n",
        "sum_val = np.sum(arr_1)\n",
        "print(f'Sum numpy array: {sum_val}')"
      ],
      "metadata": {
        "colab": {
          "base_uri": "https://localhost:8080/"
        },
        "id": "ONHjO7mNDtmZ",
        "outputId": "03533a8c-246a-4f6c-d3bd-cb5ea8218343"
      },
      "execution_count": 19,
      "outputs": [
        {
          "output_type": "stream",
          "name": "stdout",
          "text": [
            "Mean value of numpy array: 1.0\n",
            "Median value of numpy array: 1.0\n",
            "Standard deviation of numpy array: 0.816496580927726\n",
            "Sum numpy array: 3\n"
          ]
        }
      ]
    }
  ]
}